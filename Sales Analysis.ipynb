{
  "nbformat": 4,
  "nbformat_minor": 0,
  "metadata": {
    "colab": {
      "provenance": [],
      "authorship_tag": "ABX9TyMvAPtjG+tj2GzK8RaEC3QH",
      "include_colab_link": true
    },
    "kernelspec": {
      "name": "python3",
      "display_name": "Python 3"
    },
    "language_info": {
      "name": "python"
    }
  },
  "cells": [
    {
      "cell_type": "markdown",
      "metadata": {
        "id": "view-in-github",
        "colab_type": "text"
      },
      "source": [
        "<a href=\"https://colab.research.google.com/github/armenh1991/Sales_Analysis/blob/main/Sales%20Analysis.ipynb\" target=\"_parent\"><img src=\"https://colab.research.google.com/assets/colab-badge.svg\" alt=\"Open In Colab\"/></a>"
      ]
    },
    {
      "cell_type": "markdown",
      "source": [
        "# **Sales Analysis**"
      ],
      "metadata": {
        "id": "rIo7CekmOPVU"
      }
    },
    {
      "cell_type": "markdown",
      "source": [
        "### Import Statements\n"
      ],
      "metadata": {
        "id": "Lo97v1DEOFFF"
      }
    },
    {
      "cell_type": "code",
      "source": [
        "import pandas as pd\n",
        "import os\n",
        "import matplotlib.pyplot as plt"
      ],
      "metadata": {
        "id": "w-6PN5GIOHId"
      },
      "execution_count": 70,
      "outputs": []
    },
    {
      "cell_type": "markdown",
      "source": [
        "### Read CVS files and merge them into 1 dataframe\n"
      ],
      "metadata": {
        "id": "2MobeknMRStN"
      }
    },
    {
      "cell_type": "code",
      "source": [
        "dir = './'\n",
        "\n",
        "all_data = pd.DataFrame()\n",
        "\n",
        "for file in os.listdir(dir):\n",
        "  if file.endswith(\".csv\"):\n",
        "    df = pd.read_csv(''+file)\n",
        "    all_data = pd.concat([all_data, df])\n",
        "\n",
        "all_data.head()\n",
        "\n",
        "    \n"
      ],
      "metadata": {
        "id": "2IqU7UfSNwE-"
      },
      "execution_count": null,
      "outputs": []
    },
    {
      "cell_type": "markdown",
      "source": [
        "# Cleaning Data"
      ],
      "metadata": {
        "id": "TggRkngGby5d"
      }
    },
    {
      "cell_type": "markdown",
      "source": [
        "**Converting STR to INT**"
      ],
      "metadata": {
        "id": "QilmB7_Fb3NV"
      }
    },
    {
      "cell_type": "code",
      "source": [
        "all_data['Quantity Ordered'] = pd.to_numeric(all_data['Quantity Ordered'])\n",
        "all_data['Price Each'] = pd.to_numeric(all_data['Price Each'])\n",
        "\n",
        "all_data.head()"
      ],
      "metadata": {
        "id": "_gHoZt4Xb_Wk"
      },
      "execution_count": null,
      "outputs": []
    },
    {
      "cell_type": "markdown",
      "source": [
        "**Drop rows of** **NAN**"
      ],
      "metadata": {
        "id": "BbBq3ix4fTnl"
      }
    },
    {
      "cell_type": "code",
      "source": [
        "nan_df = all_data[all_data.isna().any(axis=1)]\n",
        "\n",
        "all_data = all_data.dropna(how='all')"
      ],
      "metadata": {
        "id": "T2fqGkGAcA_s"
      },
      "execution_count": 54,
      "outputs": []
    },
    {
      "cell_type": "markdown",
      "source": [
        "**Find 'Or' and remove it**"
      ],
      "metadata": {
        "id": "9Ra1kF9IfaSM"
      }
    },
    {
      "cell_type": "code",
      "source": [
        "all_data = all_data[all_data['Order Date'].str[0:2] != 'Or']\n"
      ],
      "metadata": {
        "id": "fu05ejIwcA4c"
      },
      "execution_count": 57,
      "outputs": []
    },
    {
      "cell_type": "code",
      "source": [],
      "metadata": {
        "id": "pWDbg152fZ4s"
      },
      "execution_count": null,
      "outputs": []
    },
    {
      "cell_type": "markdown",
      "source": [
        "**Adding Total and Month columns**"
      ],
      "metadata": {
        "id": "dx-ZCiY3de2E"
      }
    },
    {
      "cell_type": "code",
      "source": [
        "all_data['Total'] = all_data['Quantity Ordered'] * all_data['Price Each']\n",
        "\n",
        "all_data\n",
        "\n"
      ],
      "metadata": {
        "id": "4M8j_uRfO8MV"
      },
      "execution_count": null,
      "outputs": []
    },
    {
      "cell_type": "code",
      "source": [
        "all_data['Month'] = all_data['Order Date'].str[0:2]\n",
        "all_data['Month'] = all_data['Month'].astype('int32')\n",
        "all_data"
      ],
      "metadata": {
        "id": "n3-EUL00O8UN"
      },
      "execution_count": null,
      "outputs": []
    },
    {
      "cell_type": "markdown",
      "source": [
        "**Adding City Column**"
      ],
      "metadata": {
        "id": "g1_-QQKc6Iad"
      }
    },
    {
      "cell_type": "code",
      "source": [
        "all_data['City'] = all_data['Purchase Address'].apply(lambda x: x.split(',')[1])\n",
        "\n",
        "all_data"
      ],
      "metadata": {
        "colab": {
          "base_uri": "https://localhost:8080/",
          "height": 424
        },
        "id": "jSVMfkdv6IPu",
        "outputId": "65e70084-5549-44a9-83f3-19f4345ad8ca"
      },
      "execution_count": 159,
      "outputs": [
        {
          "output_type": "execute_result",
          "data": {
            "text/plain": [
              "      Order ID                     Product  Quantity Ordered  Price Each  \\\n",
              "0       222910    Apple Airpods Headphones                 1      150.00   \n",
              "1       222911               Flatscreen TV                 1      300.00   \n",
              "2       222912       AA Batteries (4-pack)                 1        3.84   \n",
              "3       222913       AA Batteries (4-pack)                 1        3.84   \n",
              "4       222914      AAA Batteries (4-pack)                 5        2.99   \n",
              "...        ...                         ...               ...         ...   \n",
              "25112   319666    Lightning Charging Cable                 1       14.95   \n",
              "25113   319667       AA Batteries (4-pack)                 2        3.84   \n",
              "25114   319668             Vareebadd Phone                 1      400.00   \n",
              "25115   319669            Wired Headphones                 1       11.99   \n",
              "25116   319670  Bose SoundSport Headphones                 1       99.99   \n",
              "\n",
              "           Order Date                        Purchase Address  Month   Total  \\\n",
              "0      07/26/19 16:51         389 South St, Atlanta, GA 30301      7  150.00   \n",
              "1      07/05/19 08:55           590 4th St, Seattle, WA 98101      7  300.00   \n",
              "2      07/29/19 12:41          861 Hill St, Atlanta, GA 30301      7    3.84   \n",
              "3      07/28/19 10:15         190 Ridge St, Atlanta, GA 30301      7    3.84   \n",
              "4      07/31/19 02:13        824 Forest St, Seattle, WA 98101      7   14.95   \n",
              "...               ...                                     ...    ...     ...   \n",
              "25112  12/11/19 20:58  14 Madison St, San Francisco, CA 94016     12   14.95   \n",
              "25113  12/01/19 12:01    549 Willow St, Los Angeles, CA 90001     12    7.68   \n",
              "25114  12/09/19 06:43        273 Wilson St, Seattle, WA 98101     12  400.00   \n",
              "25115  12/03/19 10:39          778 River St, Dallas, TX 75001     12   11.99   \n",
              "25116  12/21/19 21:45  747 Chestnut St, Los Angeles, CA 90001     12   99.99   \n",
              "\n",
              "                 City Hour  \n",
              "0             Atlanta   16  \n",
              "1             Seattle   08  \n",
              "2             Atlanta   12  \n",
              "3             Atlanta   10  \n",
              "4             Seattle   02  \n",
              "...               ...  ...  \n",
              "25112   San Francisco   20  \n",
              "25113     Los Angeles   12  \n",
              "25114         Seattle   06  \n",
              "25115          Dallas   10  \n",
              "25116     Los Angeles   21  \n",
              "\n",
              "[185950 rows x 10 columns]"
            ],
            "text/html": [
              "\n",
              "  <div id=\"df-f613c5ca-bf17-4cf1-801d-beb48255d041\">\n",
              "    <div class=\"colab-df-container\">\n",
              "      <div>\n",
              "<style scoped>\n",
              "    .dataframe tbody tr th:only-of-type {\n",
              "        vertical-align: middle;\n",
              "    }\n",
              "\n",
              "    .dataframe tbody tr th {\n",
              "        vertical-align: top;\n",
              "    }\n",
              "\n",
              "    .dataframe thead th {\n",
              "        text-align: right;\n",
              "    }\n",
              "</style>\n",
              "<table border=\"1\" class=\"dataframe\">\n",
              "  <thead>\n",
              "    <tr style=\"text-align: right;\">\n",
              "      <th></th>\n",
              "      <th>Order ID</th>\n",
              "      <th>Product</th>\n",
              "      <th>Quantity Ordered</th>\n",
              "      <th>Price Each</th>\n",
              "      <th>Order Date</th>\n",
              "      <th>Purchase Address</th>\n",
              "      <th>Month</th>\n",
              "      <th>Total</th>\n",
              "      <th>City</th>\n",
              "      <th>Hour</th>\n",
              "    </tr>\n",
              "  </thead>\n",
              "  <tbody>\n",
              "    <tr>\n",
              "      <th>0</th>\n",
              "      <td>222910</td>\n",
              "      <td>Apple Airpods Headphones</td>\n",
              "      <td>1</td>\n",
              "      <td>150.00</td>\n",
              "      <td>07/26/19 16:51</td>\n",
              "      <td>389 South St, Atlanta, GA 30301</td>\n",
              "      <td>7</td>\n",
              "      <td>150.00</td>\n",
              "      <td>Atlanta</td>\n",
              "      <td>16</td>\n",
              "    </tr>\n",
              "    <tr>\n",
              "      <th>1</th>\n",
              "      <td>222911</td>\n",
              "      <td>Flatscreen TV</td>\n",
              "      <td>1</td>\n",
              "      <td>300.00</td>\n",
              "      <td>07/05/19 08:55</td>\n",
              "      <td>590 4th St, Seattle, WA 98101</td>\n",
              "      <td>7</td>\n",
              "      <td>300.00</td>\n",
              "      <td>Seattle</td>\n",
              "      <td>08</td>\n",
              "    </tr>\n",
              "    <tr>\n",
              "      <th>2</th>\n",
              "      <td>222912</td>\n",
              "      <td>AA Batteries (4-pack)</td>\n",
              "      <td>1</td>\n",
              "      <td>3.84</td>\n",
              "      <td>07/29/19 12:41</td>\n",
              "      <td>861 Hill St, Atlanta, GA 30301</td>\n",
              "      <td>7</td>\n",
              "      <td>3.84</td>\n",
              "      <td>Atlanta</td>\n",
              "      <td>12</td>\n",
              "    </tr>\n",
              "    <tr>\n",
              "      <th>3</th>\n",
              "      <td>222913</td>\n",
              "      <td>AA Batteries (4-pack)</td>\n",
              "      <td>1</td>\n",
              "      <td>3.84</td>\n",
              "      <td>07/28/19 10:15</td>\n",
              "      <td>190 Ridge St, Atlanta, GA 30301</td>\n",
              "      <td>7</td>\n",
              "      <td>3.84</td>\n",
              "      <td>Atlanta</td>\n",
              "      <td>10</td>\n",
              "    </tr>\n",
              "    <tr>\n",
              "      <th>4</th>\n",
              "      <td>222914</td>\n",
              "      <td>AAA Batteries (4-pack)</td>\n",
              "      <td>5</td>\n",
              "      <td>2.99</td>\n",
              "      <td>07/31/19 02:13</td>\n",
              "      <td>824 Forest St, Seattle, WA 98101</td>\n",
              "      <td>7</td>\n",
              "      <td>14.95</td>\n",
              "      <td>Seattle</td>\n",
              "      <td>02</td>\n",
              "    </tr>\n",
              "    <tr>\n",
              "      <th>...</th>\n",
              "      <td>...</td>\n",
              "      <td>...</td>\n",
              "      <td>...</td>\n",
              "      <td>...</td>\n",
              "      <td>...</td>\n",
              "      <td>...</td>\n",
              "      <td>...</td>\n",
              "      <td>...</td>\n",
              "      <td>...</td>\n",
              "      <td>...</td>\n",
              "    </tr>\n",
              "    <tr>\n",
              "      <th>25112</th>\n",
              "      <td>319666</td>\n",
              "      <td>Lightning Charging Cable</td>\n",
              "      <td>1</td>\n",
              "      <td>14.95</td>\n",
              "      <td>12/11/19 20:58</td>\n",
              "      <td>14 Madison St, San Francisco, CA 94016</td>\n",
              "      <td>12</td>\n",
              "      <td>14.95</td>\n",
              "      <td>San Francisco</td>\n",
              "      <td>20</td>\n",
              "    </tr>\n",
              "    <tr>\n",
              "      <th>25113</th>\n",
              "      <td>319667</td>\n",
              "      <td>AA Batteries (4-pack)</td>\n",
              "      <td>2</td>\n",
              "      <td>3.84</td>\n",
              "      <td>12/01/19 12:01</td>\n",
              "      <td>549 Willow St, Los Angeles, CA 90001</td>\n",
              "      <td>12</td>\n",
              "      <td>7.68</td>\n",
              "      <td>Los Angeles</td>\n",
              "      <td>12</td>\n",
              "    </tr>\n",
              "    <tr>\n",
              "      <th>25114</th>\n",
              "      <td>319668</td>\n",
              "      <td>Vareebadd Phone</td>\n",
              "      <td>1</td>\n",
              "      <td>400.00</td>\n",
              "      <td>12/09/19 06:43</td>\n",
              "      <td>273 Wilson St, Seattle, WA 98101</td>\n",
              "      <td>12</td>\n",
              "      <td>400.00</td>\n",
              "      <td>Seattle</td>\n",
              "      <td>06</td>\n",
              "    </tr>\n",
              "    <tr>\n",
              "      <th>25115</th>\n",
              "      <td>319669</td>\n",
              "      <td>Wired Headphones</td>\n",
              "      <td>1</td>\n",
              "      <td>11.99</td>\n",
              "      <td>12/03/19 10:39</td>\n",
              "      <td>778 River St, Dallas, TX 75001</td>\n",
              "      <td>12</td>\n",
              "      <td>11.99</td>\n",
              "      <td>Dallas</td>\n",
              "      <td>10</td>\n",
              "    </tr>\n",
              "    <tr>\n",
              "      <th>25116</th>\n",
              "      <td>319670</td>\n",
              "      <td>Bose SoundSport Headphones</td>\n",
              "      <td>1</td>\n",
              "      <td>99.99</td>\n",
              "      <td>12/21/19 21:45</td>\n",
              "      <td>747 Chestnut St, Los Angeles, CA 90001</td>\n",
              "      <td>12</td>\n",
              "      <td>99.99</td>\n",
              "      <td>Los Angeles</td>\n",
              "      <td>21</td>\n",
              "    </tr>\n",
              "  </tbody>\n",
              "</table>\n",
              "<p>185950 rows × 10 columns</p>\n",
              "</div>\n",
              "      <button class=\"colab-df-convert\" onclick=\"convertToInteractive('df-f613c5ca-bf17-4cf1-801d-beb48255d041')\"\n",
              "              title=\"Convert this dataframe to an interactive table.\"\n",
              "              style=\"display:none;\">\n",
              "        \n",
              "  <svg xmlns=\"http://www.w3.org/2000/svg\" height=\"24px\"viewBox=\"0 0 24 24\"\n",
              "       width=\"24px\">\n",
              "    <path d=\"M0 0h24v24H0V0z\" fill=\"none\"/>\n",
              "    <path d=\"M18.56 5.44l.94 2.06.94-2.06 2.06-.94-2.06-.94-.94-2.06-.94 2.06-2.06.94zm-11 1L8.5 8.5l.94-2.06 2.06-.94-2.06-.94L8.5 2.5l-.94 2.06-2.06.94zm10 10l.94 2.06.94-2.06 2.06-.94-2.06-.94-.94-2.06-.94 2.06-2.06.94z\"/><path d=\"M17.41 7.96l-1.37-1.37c-.4-.4-.92-.59-1.43-.59-.52 0-1.04.2-1.43.59L10.3 9.45l-7.72 7.72c-.78.78-.78 2.05 0 2.83L4 21.41c.39.39.9.59 1.41.59.51 0 1.02-.2 1.41-.59l7.78-7.78 2.81-2.81c.8-.78.8-2.07 0-2.86zM5.41 20L4 18.59l7.72-7.72 1.47 1.35L5.41 20z\"/>\n",
              "  </svg>\n",
              "      </button>\n",
              "      \n",
              "  <style>\n",
              "    .colab-df-container {\n",
              "      display:flex;\n",
              "      flex-wrap:wrap;\n",
              "      gap: 12px;\n",
              "    }\n",
              "\n",
              "    .colab-df-convert {\n",
              "      background-color: #E8F0FE;\n",
              "      border: none;\n",
              "      border-radius: 50%;\n",
              "      cursor: pointer;\n",
              "      display: none;\n",
              "      fill: #1967D2;\n",
              "      height: 32px;\n",
              "      padding: 0 0 0 0;\n",
              "      width: 32px;\n",
              "    }\n",
              "\n",
              "    .colab-df-convert:hover {\n",
              "      background-color: #E2EBFA;\n",
              "      box-shadow: 0px 1px 2px rgba(60, 64, 67, 0.3), 0px 1px 3px 1px rgba(60, 64, 67, 0.15);\n",
              "      fill: #174EA6;\n",
              "    }\n",
              "\n",
              "    [theme=dark] .colab-df-convert {\n",
              "      background-color: #3B4455;\n",
              "      fill: #D2E3FC;\n",
              "    }\n",
              "\n",
              "    [theme=dark] .colab-df-convert:hover {\n",
              "      background-color: #434B5C;\n",
              "      box-shadow: 0px 1px 3px 1px rgba(0, 0, 0, 0.15);\n",
              "      filter: drop-shadow(0px 1px 2px rgba(0, 0, 0, 0.3));\n",
              "      fill: #FFFFFF;\n",
              "    }\n",
              "  </style>\n",
              "\n",
              "      <script>\n",
              "        const buttonEl =\n",
              "          document.querySelector('#df-f613c5ca-bf17-4cf1-801d-beb48255d041 button.colab-df-convert');\n",
              "        buttonEl.style.display =\n",
              "          google.colab.kernel.accessAllowed ? 'block' : 'none';\n",
              "\n",
              "        async function convertToInteractive(key) {\n",
              "          const element = document.querySelector('#df-f613c5ca-bf17-4cf1-801d-beb48255d041');\n",
              "          const dataTable =\n",
              "            await google.colab.kernel.invokeFunction('convertToInteractive',\n",
              "                                                     [key], {});\n",
              "          if (!dataTable) return;\n",
              "\n",
              "          const docLinkHtml = 'Like what you see? Visit the ' +\n",
              "            '<a target=\"_blank\" href=https://colab.research.google.com/notebooks/data_table.ipynb>data table notebook</a>'\n",
              "            + ' to learn more about interactive tables.';\n",
              "          element.innerHTML = '';\n",
              "          dataTable['output_type'] = 'display_data';\n",
              "          await google.colab.output.renderOutput(dataTable, element);\n",
              "          const docLink = document.createElement('div');\n",
              "          docLink.innerHTML = docLinkHtml;\n",
              "          element.appendChild(docLink);\n",
              "        }\n",
              "      </script>\n",
              "    </div>\n",
              "  </div>\n",
              "  "
            ]
          },
          "metadata": {},
          "execution_count": 159
        }
      ]
    },
    {
      "cell_type": "markdown",
      "source": [
        "**Adding An Hour Column**"
      ],
      "metadata": {
        "id": "uCPsBG35-PM1"
      }
    },
    {
      "cell_type": "code",
      "source": [
        "all_data['Hour'] = all_data['Order Date'].apply(lambda x: x.split(' ')[1].split(':')[0])"
      ],
      "metadata": {
        "id": "B2dQ-bBp6IEV"
      },
      "execution_count": 158,
      "outputs": []
    },
    {
      "cell_type": "markdown",
      "source": [
        "# **- What was the best month for sales? How much was earned that month?**"
      ],
      "metadata": {
        "id": "tF798buJbGnk"
      }
    },
    {
      "cell_type": "code",
      "source": [
        "results = all_data.groupby('Month').sum()\n",
        "results"
      ],
      "metadata": {
        "id": "i5ZCbgL1O8Wt"
      },
      "execution_count": null,
      "outputs": []
    },
    {
      "cell_type": "code",
      "source": [
        "months = range(1,13)\n",
        "plt.figure(figsize=(18, 8))\n",
        "plt.title('Sales of 12 months')\n",
        "plt.xlabel('Months')\n",
        "plt.ylabel('USD sales ($)')\n",
        "plt.xticks(months)\n",
        "plt.ticklabel_format(style='plain')\n",
        "\n",
        "plt.bar(months, results['Total'], color='#BFDB38')\n",
        "plt.show()"
      ],
      "metadata": {
        "colab": {
          "base_uri": "https://localhost:8080/",
          "height": 513
        },
        "id": "4v5gcvexO8ZS",
        "outputId": "14f6a108-0e94-4e64-fc4f-8ea93a91785f"
      },
      "execution_count": 125,
      "outputs": [
        {
          "output_type": "display_data",
          "data": {
            "text/plain": [
              "<Figure size 1296x576 with 1 Axes>"
            ],
            "image/png": "[encoded data removed]"
          },
          "metadata": {
            "needs_background": "light"
          }
        }
      ]
    },
    {
      "cell_type": "markdown",
      "source": [
        "# **- What city sold the most product?**"
      ],
      "metadata": {
        "id": "lT2vncy3kymX"
      }
    },
    {
      "cell_type": "code",
      "source": [
        "city_results = all_data.groupby(['City']).sum()\n",
        "city_results"
      ],
      "metadata": {
        "id": "lhrcVz_pO8dd"
      },
      "execution_count": null,
      "outputs": []
    },
    {
      "cell_type": "code",
      "source": [
        "plt.figure(figsize=(18, 8))\n",
        "plt.title('Amount Of Products Sold By City')\n",
        "plt.xticks(rotation=90)\n",
        "plt.xlabel('City')\n",
        "plt.ylabel('Amount of sold products')\n",
        "\n",
        "\n",
        "plt.bar(city_results.index, city_results['Quantity Ordered'], color='#85CDFD')"
      ],
      "metadata": {
        "colab": {
          "base_uri": "https://localhost:8080/",
          "height": 592
        },
        "id": "4zBPw7wAO8fo",
        "outputId": "8fdfd5bb-c2ec-4729-9041-d96664982168"
      },
      "execution_count": 124,
      "outputs": [
        {
          "output_type": "execute_result",
          "data": {
            "text/plain": [
              "<BarContainer object of 9 artists>"
            ]
          },
          "metadata": {},
          "execution_count": 124
        },
        {
          "output_type": "display_data",
          "data": {
            "text/plain": [
              "<Figure size 1296x576 with 1 Axes>"
            ],
            "image/png": "[encoded data removed]"
          },
          "metadata": {
            "needs_background": "light"
          }
        }
      ]
    },
    {
      "cell_type": "markdown",
      "source": [
        "# **- What time should we display advertisemens to maximize the likelihood of customer’s buying product?**"
      ],
      "metadata": {
        "id": "7rADL41b-FEV"
      }
    },
    {
      "cell_type": "code",
      "source": [
        "plt.figure(figsize=(18, 8))\n",
        "plt.title('Sales by Hour')\n",
        "plt.xlabel('Hour')\n",
        "plt.ylabel('Number of Sales')\n",
        "hour = range(00,24)\n",
        "plt.xticks(hour)\n",
        "plt.grid()\n",
        "\n",
        "plt.plot(hour, all_data.groupby('Hour').count()['Order ID'], color='#FC7300')\n",
        "plt.show()"
      ],
      "metadata": {
        "colab": {
          "base_uri": "https://localhost:8080/",
          "height": 513
        },
        "id": "jmnIAIZrO8kF",
        "outputId": "1d64974b-94b0-4123-b2eb-d54decfbe7cf"
      },
      "execution_count": 168,
      "outputs": [
        {
          "output_type": "display_data",
          "data": {
            "text/plain": [
              "<Figure size 1296x576 with 1 Axes>"
            ],
            "image/png": "[encoded data removed]"
          },
          "metadata": {
            "needs_background": "light"
          }
        }
      ]
    },
    {
      "cell_type": "code",
      "source": [
        "all_data.groupby('Hour').count()['Order ID']"
      ],
      "metadata": {
        "id": "s5pqR-D_-8Me"
      },
      "execution_count": null,
      "outputs": []
    },
    {
      "cell_type": "markdown",
      "source": [
        "# **- What products are most often sold together?**"
      ],
      "metadata": {
        "id": "u8TPhMZlFXkN"
      }
    },
    {
      "cell_type": "code",
      "source": [
        "same_customer_df = all_data[all_data['Order ID'].duplicated(keep=False)]\n",
        "\n",
        "top_grouped_sold_items = same_customer_df.groupby('Product').sum().sort_values(by=['Quantity Ordered'], ascending=False).head(7)\n",
        "\n",
        "top_grouped_sold_items['Quantity Ordered']"
      ],
      "metadata": {
        "id": "yzAzse50-9LF"
      },
      "execution_count": null,
      "outputs": []
    },
    {
      "cell_type": "code",
      "source": [
        "plt.figure(figsize=(18, 12))\n",
        "plt.title('Most Sold Together Items')\n",
        "\n",
        "\n",
        "plt.pie(top_grouped_sold_items['Quantity Ordered'], labels=top_grouped_sold_items.index, autopct='%1.1f%%')\n",
        "\n",
        "plt.show()"
      ],
      "metadata": {
        "colab": {
          "base_uri": "https://localhost:8080/",
          "height": 699
        },
        "id": "iWwM-4Sc-9Gd",
        "outputId": "2328a609-90f1-41f7-f177-767153b403ed"
      },
      "execution_count": 210,
      "outputs": [
        {
          "output_type": "display_data",
          "data": {
            "text/plain": [
              "<Figure size 1296x864 with 1 Axes>"
            ],
            "image/png": "[encoded data removed]"
          },
          "metadata": {}
        }
      ]
    },
    {
      "cell_type": "markdown",
      "source": [
        "# **- What product sold the most? Why do you think it sold the most?**"
      ],
      "metadata": {
        "id": "sRHUaLvSL8oc"
      }
    },
    {
      "cell_type": "code",
      "source": [
        "top_sold_items = all_data.groupby('Product').sum().sort_values(by=['Quantity Ordered'], ascending=False).head(5)"
      ],
      "metadata": {
        "id": "i5AN9bQ1-9At"
      },
      "execution_count": 216,
      "outputs": []
    },
    {
      "cell_type": "code",
      "source": [
        "plt.figure(figsize=(18, 12))\n",
        "plt.title('Most Sold Items')\n",
        "\n",
        "\n",
        "\n",
        "plt.pie(top_sold_items['Quantity Ordered'], labels=top_sold_items.index, autopct='%1.1f%%')\n",
        "plt.show()"
      ],
      "metadata": {
        "colab": {
          "base_uri": "https://localhost:8080/",
          "height": 699
        },
        "id": "34FezjwG-86V",
        "outputId": "983b14e2-8cd0-4896-ec93-906c36849ad4"
      },
      "execution_count": 224,
      "outputs": [
        {
          "output_type": "display_data",
          "data": {
            "text/plain": [
              "<Figure size 1296x864 with 1 Axes>"
            ],
            "image/png": "[encoded data removed]"
          },
          "metadata": {}
        }
      ]
    },
    {
      "cell_type": "code",
      "source": [
        "all_data"
      ],
      "metadata": {
        "colab": {
          "base_uri": "https://localhost:8080/",
          "height": 424
        },
        "id": "94Y63BlH-8aV",
        "outputId": "cdd6f85e-b62c-4b2d-9b90-e603fcd9db2f"
      },
      "execution_count": 225,
      "outputs": [
        {
          "output_type": "execute_result",
          "data": {
            "text/plain": [
              "      Order ID                     Product  Quantity Ordered  Price Each  \\\n",
              "0       222910    Apple Airpods Headphones                 1      150.00   \n",
              "1       222911               Flatscreen TV                 1      300.00   \n",
              "2       222912       AA Batteries (4-pack)                 1        3.84   \n",
              "3       222913       AA Batteries (4-pack)                 1        3.84   \n",
              "4       222914      AAA Batteries (4-pack)                 5        2.99   \n",
              "...        ...                         ...               ...         ...   \n",
              "25112   319666    Lightning Charging Cable                 1       14.95   \n",
              "25113   319667       AA Batteries (4-pack)                 2        3.84   \n",
              "25114   319668             Vareebadd Phone                 1      400.00   \n",
              "25115   319669            Wired Headphones                 1       11.99   \n",
              "25116   319670  Bose SoundSport Headphones                 1       99.99   \n",
              "\n",
              "           Order Date                        Purchase Address  Month   Total  \\\n",
              "0      07/26/19 16:51         389 South St, Atlanta, GA 30301      7  150.00   \n",
              "1      07/05/19 08:55           590 4th St, Seattle, WA 98101      7  300.00   \n",
              "2      07/29/19 12:41          861 Hill St, Atlanta, GA 30301      7    3.84   \n",
              "3      07/28/19 10:15         190 Ridge St, Atlanta, GA 30301      7    3.84   \n",
              "4      07/31/19 02:13        824 Forest St, Seattle, WA 98101      7   14.95   \n",
              "...               ...                                     ...    ...     ...   \n",
              "25112  12/11/19 20:58  14 Madison St, San Francisco, CA 94016     12   14.95   \n",
              "25113  12/01/19 12:01    549 Willow St, Los Angeles, CA 90001     12    7.68   \n",
              "25114  12/09/19 06:43        273 Wilson St, Seattle, WA 98101     12  400.00   \n",
              "25115  12/03/19 10:39          778 River St, Dallas, TX 75001     12   11.99   \n",
              "25116  12/21/19 21:45  747 Chestnut St, Los Angeles, CA 90001     12   99.99   \n",
              "\n",
              "                 City Hour  \n",
              "0             Atlanta   16  \n",
              "1             Seattle   08  \n",
              "2             Atlanta   12  \n",
              "3             Atlanta   10  \n",
              "4             Seattle   02  \n",
              "...               ...  ...  \n",
              "25112   San Francisco   20  \n",
              "25113     Los Angeles   12  \n",
              "25114         Seattle   06  \n",
              "25115          Dallas   10  \n",
              "25116     Los Angeles   21  \n",
              "\n",
              "[185950 rows x 10 columns]"
            ],
            "text/html": [
              "\n",
              "  <div id=\"df-198bb5ea-7652-49be-a682-457d65d27fa2\">\n",
              "    <div class=\"colab-df-container\">\n",
              "      <div>\n",
              "<style scoped>\n",
              "    .dataframe tbody tr th:only-of-type {\n",
              "        vertical-align: middle;\n",
              "    }\n",
              "\n",
              "    .dataframe tbody tr th {\n",
              "        vertical-align: top;\n",
              "    }\n",
              "\n",
              "    .dataframe thead th {\n",
              "        text-align: right;\n",
              "    }\n",
              "</style>\n",
              "<table border=\"1\" class=\"dataframe\">\n",
              "  <thead>\n",
              "    <tr style=\"text-align: right;\">\n",
              "      <th></th>\n",
              "      <th>Order ID</th>\n",
              "      <th>Product</th>\n",
              "      <th>Quantity Ordered</th>\n",
              "      <th>Price Each</th>\n",
              "      <th>Order Date</th>\n",
              "      <th>Purchase Address</th>\n",
              "      <th>Month</th>\n",
              "      <th>Total</th>\n",
              "      <th>City</th>\n",
              "      <th>Hour</th>\n",
              "    </tr>\n",
              "  </thead>\n",
              "  <tbody>\n",
              "    <tr>\n",
              "      <th>0</th>\n",
              "      <td>222910</td>\n",
              "      <td>Apple Airpods Headphones</td>\n",
              "      <td>1</td>\n",
              "      <td>150.00</td>\n",
              "      <td>07/26/19 16:51</td>\n",
              "      <td>389 South St, Atlanta, GA 30301</td>\n",
              "      <td>7</td>\n",
              "      <td>150.00</td>\n",
              "      <td>Atlanta</td>\n",
              "      <td>16</td>\n",
              "    </tr>\n",
              "    <tr>\n",
              "      <th>1</th>\n",
              "      <td>222911</td>\n",
              "      <td>Flatscreen TV</td>\n",
              "      <td>1</td>\n",
              "      <td>300.00</td>\n",
              "      <td>07/05/19 08:55</td>\n",
              "      <td>590 4th St, Seattle, WA 98101</td>\n",
              "      <td>7</td>\n",
              "      <td>300.00</td>\n",
              "      <td>Seattle</td>\n",
              "      <td>08</td>\n",
              "    </tr>\n",
              "    <tr>\n",
              "      <th>2</th>\n",
              "      <td>222912</td>\n",
              "      <td>AA Batteries (4-pack)</td>\n",
              "      <td>1</td>\n",
              "      <td>3.84</td>\n",
              "      <td>07/29/19 12:41</td>\n",
              "      <td>861 Hill St, Atlanta, GA 30301</td>\n",
              "      <td>7</td>\n",
              "      <td>3.84</td>\n",
              "      <td>Atlanta</td>\n",
              "      <td>12</td>\n",
              "    </tr>\n",
              "    <tr>\n",
              "      <th>3</th>\n",
              "      <td>222913</td>\n",
              "      <td>AA Batteries (4-pack)</td>\n",
              "      <td>1</td>\n",
              "      <td>3.84</td>\n",
              "      <td>07/28/19 10:15</td>\n",
              "      <td>190 Ridge St, Atlanta, GA 30301</td>\n",
              "      <td>7</td>\n",
              "      <td>3.84</td>\n",
              "      <td>Atlanta</td>\n",
              "      <td>10</td>\n",
              "    </tr>\n",
              "    <tr>\n",
              "      <th>4</th>\n",
              "      <td>222914</td>\n",
              "      <td>AAA Batteries (4-pack)</td>\n",
              "      <td>5</td>\n",
              "      <td>2.99</td>\n",
              "      <td>07/31/19 02:13</td>\n",
              "      <td>824 Forest St, Seattle, WA 98101</td>\n",
              "      <td>7</td>\n",
              "      <td>14.95</td>\n",
              "      <td>Seattle</td>\n",
              "      <td>02</td>\n",
              "    </tr>\n",
              "    <tr>\n",
              "      <th>...</th>\n",
              "      <td>...</td>\n",
              "      <td>...</td>\n",
              "      <td>...</td>\n",
              "      <td>...</td>\n",
              "      <td>...</td>\n",
              "      <td>...</td>\n",
              "      <td>...</td>\n",
              "      <td>...</td>\n",
              "      <td>...</td>\n",
              "      <td>...</td>\n",
              "    </tr>\n",
              "    <tr>\n",
              "      <th>25112</th>\n",
              "      <td>319666</td>\n",
              "      <td>Lightning Charging Cable</td>\n",
              "      <td>1</td>\n",
              "      <td>14.95</td>\n",
              "      <td>12/11/19 20:58</td>\n",
              "      <td>14 Madison St, San Francisco, CA 94016</td>\n",
              "      <td>12</td>\n",
              "      <td>14.95</td>\n",
              "      <td>San Francisco</td>\n",
              "      <td>20</td>\n",
              "    </tr>\n",
              "    <tr>\n",
              "      <th>25113</th>\n",
              "      <td>319667</td>\n",
              "      <td>AA Batteries (4-pack)</td>\n",
              "      <td>2</td>\n",
              "      <td>3.84</td>\n",
              "      <td>12/01/19 12:01</td>\n",
              "      <td>549 Willow St, Los Angeles, CA 90001</td>\n",
              "      <td>12</td>\n",
              "      <td>7.68</td>\n",
              "      <td>Los Angeles</td>\n",
              "      <td>12</td>\n",
              "    </tr>\n",
              "    <tr>\n",
              "      <th>25114</th>\n",
              "      <td>319668</td>\n",
              "      <td>Vareebadd Phone</td>\n",
              "      <td>1</td>\n",
              "      <td>400.00</td>\n",
              "      <td>12/09/19 06:43</td>\n",
              "      <td>273 Wilson St, Seattle, WA 98101</td>\n",
              "      <td>12</td>\n",
              "      <td>400.00</td>\n",
              "      <td>Seattle</td>\n",
              "      <td>06</td>\n",
              "    </tr>\n",
              "    <tr>\n",
              "      <th>25115</th>\n",
              "      <td>319669</td>\n",
              "      <td>Wired Headphones</td>\n",
              "      <td>1</td>\n",
              "      <td>11.99</td>\n",
              "      <td>12/03/19 10:39</td>\n",
              "      <td>778 River St, Dallas, TX 75001</td>\n",
              "      <td>12</td>\n",
              "      <td>11.99</td>\n",
              "      <td>Dallas</td>\n",
              "      <td>10</td>\n",
              "    </tr>\n",
              "    <tr>\n",
              "      <th>25116</th>\n",
              "      <td>319670</td>\n",
              "      <td>Bose SoundSport Headphones</td>\n",
              "      <td>1</td>\n",
              "      <td>99.99</td>\n",
              "      <td>12/21/19 21:45</td>\n",
              "      <td>747 Chestnut St, Los Angeles, CA 90001</td>\n",
              "      <td>12</td>\n",
              "      <td>99.99</td>\n",
              "      <td>Los Angeles</td>\n",
              "      <td>21</td>\n",
              "    </tr>\n",
              "  </tbody>\n",
              "</table>\n",
              "<p>185950 rows × 10 columns</p>\n",
              "</div>\n",
              "      <button class=\"colab-df-convert\" onclick=\"convertToInteractive('df-198bb5ea-7652-49be-a682-457d65d27fa2')\"\n",
              "              title=\"Convert this dataframe to an interactive table.\"\n",
              "              style=\"display:none;\">\n",
              "        \n",
              "  <svg xmlns=\"http://www.w3.org/2000/svg\" height=\"24px\"viewBox=\"0 0 24 24\"\n",
              "       width=\"24px\">\n",
              "    <path d=\"M0 0h24v24H0V0z\" fill=\"none\"/>\n",
              "    <path d=\"M18.56 5.44l.94 2.06.94-2.06 2.06-.94-2.06-.94-.94-2.06-.94 2.06-2.06.94zm-11 1L8.5 8.5l.94-2.06 2.06-.94-2.06-.94L8.5 2.5l-.94 2.06-2.06.94zm10 10l.94 2.06.94-2.06 2.06-.94-2.06-.94-.94-2.06-.94 2.06-2.06.94z\"/><path d=\"M17.41 7.96l-1.37-1.37c-.4-.4-.92-.59-1.43-.59-.52 0-1.04.2-1.43.59L10.3 9.45l-7.72 7.72c-.78.78-.78 2.05 0 2.83L4 21.41c.39.39.9.59 1.41.59.51 0 1.02-.2 1.41-.59l7.78-7.78 2.81-2.81c.8-.78.8-2.07 0-2.86zM5.41 20L4 18.59l7.72-7.72 1.47 1.35L5.41 20z\"/>\n",
              "  </svg>\n",
              "      </button>\n",
              "      \n",
              "  <style>\n",
              "    .colab-df-container {\n",
              "      display:flex;\n",
              "      flex-wrap:wrap;\n",
              "      gap: 12px;\n",
              "    }\n",
              "\n",
              "    .colab-df-convert {\n",
              "      background-color: #E8F0FE;\n",
              "      border: none;\n",
              "      border-radius: 50%;\n",
              "      cursor: pointer;\n",
              "      display: none;\n",
              "      fill: #1967D2;\n",
              "      height: 32px;\n",
              "      padding: 0 0 0 0;\n",
              "      width: 32px;\n",
              "    }\n",
              "\n",
              "    .colab-df-convert:hover {\n",
              "      background-color: #E2EBFA;\n",
              "      box-shadow: 0px 1px 2px rgba(60, 64, 67, 0.3), 0px 1px 3px 1px rgba(60, 64, 67, 0.15);\n",
              "      fill: #174EA6;\n",
              "    }\n",
              "\n",
              "    [theme=dark] .colab-df-convert {\n",
              "      background-color: #3B4455;\n",
              "      fill: #D2E3FC;\n",
              "    }\n",
              "\n",
              "    [theme=dark] .colab-df-convert:hover {\n",
              "      background-color: #434B5C;\n",
              "      box-shadow: 0px 1px 3px 1px rgba(0, 0, 0, 0.15);\n",
              "      filter: drop-shadow(0px 1px 2px rgba(0, 0, 0, 0.3));\n",
              "      fill: #FFFFFF;\n",
              "    }\n",
              "  </style>\n",
              "\n",
              "      <script>\n",
              "        const buttonEl =\n",
              "          document.querySelector('#df-198bb5ea-7652-49be-a682-457d65d27fa2 button.colab-df-convert');\n",
              "        buttonEl.style.display =\n",
              "          google.colab.kernel.accessAllowed ? 'block' : 'none';\n",
              "\n",
              "        async function convertToInteractive(key) {\n",
              "          const element = document.querySelector('#df-198bb5ea-7652-49be-a682-457d65d27fa2');\n",
              "          const dataTable =\n",
              "            await google.colab.kernel.invokeFunction('convertToInteractive',\n",
              "                                                     [key], {});\n",
              "          if (!dataTable) return;\n",
              "\n",
              "          const docLinkHtml = 'Like what you see? Visit the ' +\n",
              "            '<a target=\"_blank\" href=https://colab.research.google.com/notebooks/data_table.ipynb>data table notebook</a>'\n",
              "            + ' to learn more about interactive tables.';\n",
              "          element.innerHTML = '';\n",
              "          dataTable['output_type'] = 'display_data';\n",
              "          await google.colab.output.renderOutput(dataTable, element);\n",
              "          const docLink = document.createElement('div');\n",
              "          docLink.innerHTML = docLinkHtml;\n",
              "          element.appendChild(docLink);\n",
              "        }\n",
              "      </script>\n",
              "    </div>\n",
              "  </div>\n",
              "  "
            ]
          },
          "metadata": {},
          "execution_count": 225
        }
      ]
    }
  ]
}